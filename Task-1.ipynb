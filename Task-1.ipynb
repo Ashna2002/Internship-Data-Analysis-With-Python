{
 "cells": [
  {
   "cell_type": "markdown",
   "id": "6626ba0f",
   "metadata": {},
   "source": [
    "### Understanding the basic data types in Python such as lists, dictionaries, and sets."
   ]
  },
  {
   "cell_type": "markdown",
   "id": "2b2a7634",
   "metadata": {},
   "source": [
    "#### List Operations"
   ]
  },
  {
   "cell_type": "code",
   "execution_count": 2,
   "id": "a51e1844",
   "metadata": {},
   "outputs": [
    {
     "name": "stdout",
     "output_type": "stream",
     "text": [
      "Original List =  ['Apple', 'Orange', 'Mango']\n",
      "Updated List =  ['Apple', 'Orange', 'Mango', 'Banana']\n"
     ]
    }
   ],
   "source": [
    "# Add elements to a python list\n",
    "fruits= ['Apple','Orange','Mango']\n",
    "print('Original List = ',fruits)\n",
    "\n",
    "\n",
    "fruits.append('Banana')\n",
    "print('Updated List = ',fruits)"
   ]
  },
  {
   "cell_type": "code",
   "execution_count": 3,
   "id": "f64b609c",
   "metadata": {},
   "outputs": [
    {
     "name": "stdout",
     "output_type": "stream",
     "text": [
      "Updated List =  ['Apple', 'Mango', 'Banana']\n"
     ]
    }
   ],
   "source": [
    "# Removing an item from the list\n",
    "fruits.remove('Orange')\n",
    "print('Updated List = ',fruits)"
   ]
  },
  {
   "cell_type": "code",
   "execution_count": 5,
   "id": "db97c31e",
   "metadata": {},
   "outputs": [
    {
     "name": "stdout",
     "output_type": "stream",
     "text": [
      "Updated List =  ['Apple', 'Cherry', 'Banana']\n"
     ]
    }
   ],
   "source": [
    "# Modifying an item from the list\n",
    "fruits[1] ='Cherry'\n",
    "print('Updated List = ',fruits)"
   ]
  },
  {
   "cell_type": "markdown",
   "id": "4b2dc2d5",
   "metadata": {},
   "source": [
    "#### Dictionary Operations"
   ]
  },
  {
   "cell_type": "code",
   "execution_count": 6,
   "id": "7aad4245",
   "metadata": {},
   "outputs": [
    {
     "name": "stdout",
     "output_type": "stream",
     "text": [
      "Country Capitals =  {'Germany': 'Berlin', 'Canada': 'Ottawa', 'England': 'London'}\n",
      "Updated Country Capitals =  {'Germany': 'Berlin', 'Canada': 'Ottawa', 'England': 'London', 'Italy': 'Rome'}\n"
     ]
    }
   ],
   "source": [
    "# Add elements to a python dictionary\n",
    "country_capitals = {\"Germany\": \"Berlin\", \"Canada\": \"Ottawa\", \"England\": \"London\"}\n",
    "print('Country Capitals = ',country_capitals)\n",
    "\n",
    "country_capitals[\"Italy\"]=\"Rome\"\n",
    "print('Updated Country Capitals = ',country_capitals)"
   ]
  },
  {
   "cell_type": "code",
   "execution_count": 8,
   "id": "2a6345cc",
   "metadata": {},
   "outputs": [
    {
     "name": "stdout",
     "output_type": "stream",
     "text": [
      "Updated Country Capitals =  {'Canada': 'Ottawa', 'England': 'London', 'Italy': 'Rome'}\n"
     ]
    }
   ],
   "source": [
    "# Removing an item from the dictionary\n",
    "del country_capitals[\"Germany\"]\n",
    "print('Updated Country Capitals = ',country_capitals)"
   ]
  },
  {
   "cell_type": "code",
   "execution_count": 9,
   "id": "b9d52066",
   "metadata": {},
   "outputs": [
    {
     "name": "stdout",
     "output_type": "stream",
     "text": [
      "Updated Country Capitals =  {'Canada': 'Ottawa', 'England': 'London', 'Italy': 'City of Seven Hills'}\n"
     ]
    }
   ],
   "source": [
    "# Modifying an item from the dictionary\n",
    "country_capitals.update({\"Italy\": \"City of Seven Hills\"})\n",
    "print('Updated Country Capitals = ',country_capitals)"
   ]
  },
  {
   "cell_type": "markdown",
   "id": "0d925825",
   "metadata": {},
   "source": [
    "#### Set Operations"
   ]
  },
  {
   "cell_type": "code",
   "execution_count": 3,
   "id": "d779939e",
   "metadata": {},
   "outputs": [
    {
     "name": "stdout",
     "output_type": "stream",
     "text": [
      "Initials set =  {20, 5, 25, 10, 15}\n",
      "Updated set =  {20, 5, 25, 10, 30, 15}\n"
     ]
    }
   ],
   "source": [
    "# Add elements to a python sets\n",
    "numbers ={5, 10, 15, 20, 25}\n",
    "print('Initials set = ',numbers)\n",
    "\n",
    "numbers.add(30)\n",
    "print('Updated set = ',numbers)"
   ]
  },
  {
   "cell_type": "code",
   "execution_count": 4,
   "id": "d9548337",
   "metadata": {},
   "outputs": [
    {
     "name": "stdout",
     "output_type": "stream",
     "text": [
      "Updated set =  {20, 5, 25, 10, 30}\n"
     ]
    }
   ],
   "source": [
    "# Removing an item from the set\n",
    "numbers.remove(15)\n",
    "print('Updated set = ',numbers)"
   ]
  },
  {
   "cell_type": "code",
   "execution_count": 5,
   "id": "c521b2ef",
   "metadata": {},
   "outputs": [
    {
     "name": "stdout",
     "output_type": "stream",
     "text": [
      "Updated set =  {35, 20, 25, 10, 30}\n"
     ]
    }
   ],
   "source": [
    "# Modifying an item from the set\n",
    "numbers.add(35)\n",
    "numbers.discard(5)\n",
    "print('Updated set = ',numbers)"
   ]
  }
 ],
 "metadata": {
  "kernelspec": {
   "display_name": "Python 3 (ipykernel)",
   "language": "python",
   "name": "python3"
  },
  "language_info": {
   "codemirror_mode": {
    "name": "ipython",
    "version": 3
   },
   "file_extension": ".py",
   "mimetype": "text/x-python",
   "name": "python",
   "nbconvert_exporter": "python",
   "pygments_lexer": "ipython3",
   "version": "3.9.7"
  }
 },
 "nbformat": 4,
 "nbformat_minor": 5
}
